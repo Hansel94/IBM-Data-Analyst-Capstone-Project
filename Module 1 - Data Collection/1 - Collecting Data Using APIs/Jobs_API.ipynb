{
 "cells": [
  {
   "cell_type": "markdown",
   "id": "a66c1692-9c84-41ec-a135-b417ef41344d",
   "metadata": {},
   "source": [
    "<p style=\"text-align:center\">\n",
    "    <a href=\"https://skills.network/?utm_medium=Exinfluencer&utm_source=Exinfluencer&utm_content=000026UJ&utm_term=10006555&utm_id=NA-SkillsNetwork-Channel-SkillsNetworkCoursesIBMDA0321ENSkillsNetwork21426264-2022-01-01\" target=\"_blank\">\n",
    "    <img src=\"https://cf-courses-data.s3.us.cloud-object-storage.appdomain.cloud/assets/logos/SN_web_lightmode.png\" width=\"200\" alt=\"Skills Network Logo\"  />\n",
    "    </a>\n",
    "</p>\n"
   ]
  },
  {
   "cell_type": "markdown",
   "id": "6e786144-f1e4-45ee-b287-f2f4b87300d3",
   "metadata": {},
   "source": [
    "# **JOBS API Implementation Using FLASK**\n"
   ]
  },
  {
   "cell_type": "markdown",
   "id": "aae78227-6f87-4090-80ab-49edba9c3003",
   "metadata": {},
   "source": [
    "Estimated time needed: **45 to 60** minutes\n"
   ]
  },
  {
   "cell_type": "markdown",
   "id": "817156a7-4bab-46b8-9a67-55f3b0564c01",
   "metadata": {},
   "source": [
    "## Objectives\n",
    "\n",
    "You will be executing this code  so that the client application **Collecting Jobs API**  will be accessing this code executing on the server\n"
   ]
  },
  {
   "cell_type": "code",
   "execution_count": 5,
   "id": "4ac527ce-f921-44e2-b729-28ed03634a8e",
   "metadata": {},
   "outputs": [
    {
     "name": "stdout",
     "output_type": "stream",
     "text": [
      "^C\n",
      "Traceback (most recent call last):\n",
      "  File \"/home/hansel/anaconda3/bin/pip\", line 11, in <module>\n",
      "    sys.exit(main())\n",
      "  File \"/home/hansel/anaconda3/lib/python3.9/site-packages/pip/_internal/cli/main.py\", line 68, in main\n",
      "    command = create_command(cmd_name, isolated=(\"--isolated\" in cmd_args))\n",
      "  File \"/home/hansel/anaconda3/lib/python3.9/site-packages/pip/_internal/commands/__init__.py\", line 94, in create_command\n",
      "    module = importlib.import_module(module_path)\n",
      "  File \"/home/hansel/anaconda3/lib/python3.9/importlib/__init__.py\", line 127, in import_module\n",
      "    return _bootstrap._gcd_import(name[level:], package, level)\n",
      "  File \"<frozen importlib._bootstrap>\", line 1030, in _gcd_import\n",
      "  File \"<frozen importlib._bootstrap>\", line 1007, in _find_and_load\n",
      "  File \"<frozen importlib._bootstrap>\", line 986, in _find_and_load_unlocked\n",
      "  File \"<frozen importlib._bootstrap>\", line 680, in _load_unlocked\n",
      "  File \"<frozen importlib._bootstrap_external>\", line 850, in exec_module\n",
      "  File \"<frozen importlib._bootstrap>\", line 228, in _call_with_frames_removed\n",
      "  File \"/home/hansel/anaconda3/lib/python3.9/site-packages/pip/_internal/commands/install.py\", line 11, in <module>\n",
      "    from pip._internal.cache import WheelCache\n",
      "  File \"/home/hansel/anaconda3/lib/python3.9/site-packages/pip/_internal/cache.py\", line 15, in <module>\n",
      "    from pip._internal.models.link import Link\n",
      "  File \"/home/hansel/anaconda3/lib/python3.9/site-packages/pip/_internal/models/link.py\", line 17, in <module>\n",
      "    from pip._internal.utils.urls import path_to_url, url_to_path\n",
      "  File \"/home/hansel/anaconda3/lib/python3.9/site-packages/pip/_internal/utils/urls.py\", line 4, in <module>\n",
      "    import urllib.request\n",
      "KeyboardInterrupt\n"
     ]
    }
   ],
   "source": [
    "!pip install flask"
   ]
  },
  {
   "cell_type": "markdown",
   "id": "0e5bba17-58e7-49a4-8040-0831e93466f5",
   "metadata": {},
   "source": [
    "## Dataset Used in this Assignment\n",
    "\n",
    "The dataset used in this lab comes from the following source: [https://www.kaggle.com/promptcloud/jobs-on-naukricom](https://www.kaggle.com/promptcloud/jobs-on-naukricom?utm_medium=Exinfluencer&utm_source=Exinfluencer&utm_content=000026UJ&utm_term=10006555&utm_id=NA-SkillsNetwork-Channel-SkillsNetworkCoursesIBMDA0321ENSkillsNetwork21426264-2022-01-01) under the under a **Public Domain license**.\n",
    "\n",
    "> Note: We are using a modified subset of that dataset for the lab, so to follow the lab instructions successfully please use the dataset provided with the lab, rather than the dataset from the original source.\n",
    "\n",
    "The original dataset is a csv. We have converted the csv to json as per the requirement of the lab.\n"
   ]
  },
  {
   "cell_type": "code",
   "execution_count": 1,
   "id": "c2eed468-b4cd-481a-a18e-1851e2fc7a4a",
   "metadata": {},
   "outputs": [
    {
     "name": "stdout",
     "output_type": "stream",
     "text": [
      "--2022-09-14 15:50:51--  https://cf-courses-data.s3.us.cloud-object-storage.appdomain.cloud/IBM-DA0321EN-SkillsNetwork/labs/module%201/Accessing%20Data%20Using%20APIs/jobs.json\n",
      "Resolviendo cf-courses-data.s3.us.cloud-object-storage.appdomain.cloud (cf-courses-data.s3.us.cloud-object-storage.appdomain.cloud)... 198.23.119.245\n",
      "Conectando con cf-courses-data.s3.us.cloud-object-storage.appdomain.cloud (cf-courses-data.s3.us.cloud-object-storage.appdomain.cloud)[198.23.119.245]:443... conectado.\n",
      "Petición HTTP enviada, esperando respuesta... 200 OK\n",
      "Longitud: 12878382 (12M) [application/json]\n",
      "Guardando como: ‘jobs.json’\n",
      "\n",
      "jobs.json           100%[===================>]  12.28M   244KB/s    en 33s     \n",
      "\n",
      "2022-09-14 15:51:25 (376 KB/s) - ‘jobs.json’ guardado [12878382/12878382]\n",
      "\n"
     ]
    }
   ],
   "source": [
    "!wget  https://cf-courses-data.s3.us.cloud-object-storage.appdomain.cloud/IBM-DA0321EN-SkillsNetwork/labs/module%201/Accessing%20Data%20Using%20APIs/jobs.json"
   ]
  },
  {
   "cell_type": "code",
   "execution_count": null,
   "id": "21697c9d",
   "metadata": {},
   "outputs": [
    {
     "name": "stdout",
     "output_type": "stream",
     "text": [
      " * Serving Flask app \"__main__\" (lazy loading)\n",
      " * Environment: production\n",
      "\u001b[31m   WARNING: This is a development server. Do not use it in a production deployment.\u001b[0m\n",
      "\u001b[2m   Use a production WSGI server instead.\u001b[0m\n",
      " * Debug mode: off\n"
     ]
    },
    {
     "name": "stderr",
     "output_type": "stream",
     "text": [
      " * Running on http://127.0.0.1:5000/ (Press CTRL+C to quit)\n",
      "127.0.0.1 - - [14/Sep/2022 15:51:40] \"\u001b[37mGET /data/all HTTP/1.1\u001b[0m\" 200 -\n",
      "127.0.0.1 - - [14/Sep/2022 15:51:45] \"\u001b[37mGET /data/all HTTP/1.1\u001b[0m\" 200 -\n",
      "127.0.0.1 - - [14/Sep/2022 15:51:59] \"\u001b[37mGET /data/all HTTP/1.1\u001b[0m\" 200 -\n",
      "127.0.0.1 - - [14/Sep/2022 15:51:59] \"\u001b[37mGET /data/all HTTP/1.1\u001b[0m\" 200 -\n",
      "127.0.0.1 - - [14/Sep/2022 15:51:59] \"\u001b[37mGET /data/all HTTP/1.1\u001b[0m\" 200 -\n",
      "127.0.0.1 - - [14/Sep/2022 15:52:00] \"\u001b[37mGET /data/all HTTP/1.1\u001b[0m\" 200 -\n",
      "127.0.0.1 - - [14/Sep/2022 15:52:00] \"\u001b[37mGET /data/all HTTP/1.1\u001b[0m\" 200 -\n",
      "127.0.0.1 - - [14/Sep/2022 15:55:08] \"\u001b[37mGET /data/all HTTP/1.1\u001b[0m\" 200 -\n",
      "127.0.0.1 - - [14/Sep/2022 15:55:08] \"\u001b[37mGET /data/all HTTP/1.1\u001b[0m\" 200 -\n",
      "127.0.0.1 - - [14/Sep/2022 15:55:08] \"\u001b[37mGET /data/all HTTP/1.1\u001b[0m\" 200 -\n",
      "127.0.0.1 - - [14/Sep/2022 15:55:08] \"\u001b[37mGET /data/all HTTP/1.1\u001b[0m\" 200 -\n",
      "127.0.0.1 - - [14/Sep/2022 15:55:09] \"\u001b[37mGET /data/all HTTP/1.1\u001b[0m\" 200 -\n",
      "127.0.0.1 - - [14/Sep/2022 15:55:09] \"\u001b[37mGET /data/all HTTP/1.1\u001b[0m\" 200 -\n",
      "127.0.0.1 - - [14/Sep/2022 15:55:22] \"\u001b[37mGET /data/all HTTP/1.1\u001b[0m\" 200 -\n",
      "127.0.0.1 - - [14/Sep/2022 15:55:22] \"\u001b[37mGET /data/all HTTP/1.1\u001b[0m\" 200 -\n",
      "127.0.0.1 - - [14/Sep/2022 15:55:22] \"\u001b[37mGET /data/all HTTP/1.1\u001b[0m\" 200 -\n",
      "127.0.0.1 - - [14/Sep/2022 15:55:22] \"\u001b[37mGET /data/all HTTP/1.1\u001b[0m\" 200 -\n",
      "127.0.0.1 - - [14/Sep/2022 15:55:22] \"\u001b[37mGET /data/all HTTP/1.1\u001b[0m\" 200 -\n",
      "127.0.0.1 - - [14/Sep/2022 15:55:23] \"\u001b[37mGET /data/all HTTP/1.1\u001b[0m\" 200 -\n",
      "127.0.0.1 - - [14/Sep/2022 15:55:34] \"\u001b[37mGET /data/all HTTP/1.1\u001b[0m\" 200 -\n",
      "127.0.0.1 - - [14/Sep/2022 15:55:34] \"\u001b[37mGET /data/all HTTP/1.1\u001b[0m\" 200 -\n",
      "127.0.0.1 - - [14/Sep/2022 15:55:34] \"\u001b[37mGET /data/all HTTP/1.1\u001b[0m\" 200 -\n",
      "127.0.0.1 - - [14/Sep/2022 15:55:35] \"\u001b[37mGET /data/all HTTP/1.1\u001b[0m\" 200 -\n",
      "127.0.0.1 - - [14/Sep/2022 15:55:35] \"\u001b[37mGET /data/all HTTP/1.1\u001b[0m\" 200 -\n",
      "127.0.0.1 - - [14/Sep/2022 15:56:31] \"\u001b[37mGET /data/all HTTP/1.1\u001b[0m\" 200 -\n",
      "127.0.0.1 - - [14/Sep/2022 15:56:32] \"\u001b[37mGET /data/all HTTP/1.1\u001b[0m\" 200 -\n",
      "127.0.0.1 - - [14/Sep/2022 15:56:32] \"\u001b[37mGET /data/all HTTP/1.1\u001b[0m\" 200 -\n",
      "127.0.0.1 - - [14/Sep/2022 15:56:32] \"\u001b[37mGET /data/all HTTP/1.1\u001b[0m\" 200 -\n",
      "127.0.0.1 - - [14/Sep/2022 15:56:32] \"\u001b[37mGET /data/all HTTP/1.1\u001b[0m\" 200 -\n",
      "127.0.0.1 - - [14/Sep/2022 15:59:12] \"\u001b[37mGET /data/all HTTP/1.1\u001b[0m\" 200 -\n",
      "127.0.0.1 - - [14/Sep/2022 15:59:12] \"\u001b[37mGET /data/all HTTP/1.1\u001b[0m\" 200 -\n",
      "127.0.0.1 - - [14/Sep/2022 15:59:12] \"\u001b[37mGET /data/all HTTP/1.1\u001b[0m\" 200 -\n",
      "127.0.0.1 - - [14/Sep/2022 15:59:12] \"\u001b[37mGET /data/all HTTP/1.1\u001b[0m\" 200 -\n",
      "127.0.0.1 - - [14/Sep/2022 15:59:13] \"\u001b[37mGET /data/all HTTP/1.1\u001b[0m\" 200 -\n",
      "127.0.0.1 - - [14/Sep/2022 15:59:13] \"\u001b[37mGET /data/all HTTP/1.1\u001b[0m\" 200 -\n",
      "127.0.0.1 - - [14/Sep/2022 15:59:13] \"\u001b[37mGET /data/all HTTP/1.1\u001b[0m\" 200 -\n",
      "127.0.0.1 - - [14/Sep/2022 15:59:13] \"\u001b[37mGET /data/all HTTP/1.1\u001b[0m\" 200 -\n",
      "127.0.0.1 - - [14/Sep/2022 15:59:14] \"\u001b[37mGET /data/all HTTP/1.1\u001b[0m\" 200 -\n",
      "127.0.0.1 - - [14/Sep/2022 15:59:14] \"\u001b[37mGET /data/all HTTP/1.1\u001b[0m\" 200 -\n",
      "127.0.0.1 - - [14/Sep/2022 15:59:14] \"\u001b[37mGET /data/all HTTP/1.1\u001b[0m\" 200 -\n",
      "127.0.0.1 - - [14/Sep/2022 15:59:14] \"\u001b[37mGET /data/all HTTP/1.1\u001b[0m\" 200 -\n",
      "127.0.0.1 - - [14/Sep/2022 15:59:19] \"\u001b[37mGET /data/all HTTP/1.1\u001b[0m\" 200 -\n",
      "127.0.0.1 - - [14/Sep/2022 15:59:19] \"\u001b[37mGET /data/all HTTP/1.1\u001b[0m\" 200 -\n",
      "127.0.0.1 - - [14/Sep/2022 15:59:20] \"\u001b[37mGET /data/all HTTP/1.1\u001b[0m\" 200 -\n",
      "127.0.0.1 - - [14/Sep/2022 15:59:20] \"\u001b[37mGET /data/all HTTP/1.1\u001b[0m\" 200 -\n",
      "127.0.0.1 - - [14/Sep/2022 15:59:20] \"\u001b[37mGET /data/all HTTP/1.1\u001b[0m\" 200 -\n",
      "127.0.0.1 - - [14/Sep/2022 15:59:21] \"\u001b[37mGET /data/all HTTP/1.1\u001b[0m\" 200 -\n",
      "127.0.0.1 - - [14/Sep/2022 15:59:21] \"\u001b[37mGET /data/all HTTP/1.1\u001b[0m\" 200 -\n",
      "127.0.0.1 - - [14/Sep/2022 15:59:21] \"\u001b[37mGET /data/all HTTP/1.1\u001b[0m\" 200 -\n",
      "127.0.0.1 - - [14/Sep/2022 15:59:21] \"\u001b[37mGET /data/all HTTP/1.1\u001b[0m\" 200 -\n",
      "127.0.0.1 - - [14/Sep/2022 15:59:21] \"\u001b[37mGET /data/all HTTP/1.1\u001b[0m\" 200 -\n",
      "127.0.0.1 - - [14/Sep/2022 15:59:22] \"\u001b[37mGET /data/all HTTP/1.1\u001b[0m\" 200 -\n",
      "127.0.0.1 - - [14/Sep/2022 15:59:22] \"\u001b[37mGET /data/all HTTP/1.1\u001b[0m\" 200 -\n",
      "127.0.0.1 - - [14/Sep/2022 16:01:01] \"\u001b[37mGET /data/all HTTP/1.1\u001b[0m\" 200 -\n",
      "127.0.0.1 - - [14/Sep/2022 16:01:01] \"\u001b[37mGET /data/all HTTP/1.1\u001b[0m\" 200 -\n",
      "127.0.0.1 - - [14/Sep/2022 16:01:01] \"\u001b[37mGET /data/all HTTP/1.1\u001b[0m\" 200 -\n",
      "127.0.0.1 - - [14/Sep/2022 16:01:01] \"\u001b[37mGET /data/all HTTP/1.1\u001b[0m\" 200 -\n",
      "127.0.0.1 - - [14/Sep/2022 16:01:01] \"\u001b[37mGET /data/all HTTP/1.1\u001b[0m\" 200 -\n",
      "127.0.0.1 - - [14/Sep/2022 16:01:02] \"\u001b[37mGET /data/all HTTP/1.1\u001b[0m\" 200 -\n",
      "127.0.0.1 - - [14/Sep/2022 16:01:02] \"\u001b[37mGET /data/all HTTP/1.1\u001b[0m\" 200 -\n",
      "127.0.0.1 - - [14/Sep/2022 16:01:02] \"\u001b[37mGET /data/all HTTP/1.1\u001b[0m\" 200 -\n",
      "127.0.0.1 - - [14/Sep/2022 16:01:02] \"\u001b[37mGET /data/all HTTP/1.1\u001b[0m\" 200 -\n",
      "127.0.0.1 - - [14/Sep/2022 16:01:03] \"\u001b[37mGET /data/all HTTP/1.1\u001b[0m\" 200 -\n",
      "127.0.0.1 - - [14/Sep/2022 16:01:03] \"\u001b[37mGET /data/all HTTP/1.1\u001b[0m\" 200 -\n",
      "127.0.0.1 - - [14/Sep/2022 16:01:03] \"\u001b[37mGET /data/all HTTP/1.1\u001b[0m\" 200 -\n"
     ]
    }
   ],
   "source": [
    "import flask\n",
    "from flask import request, jsonify\n",
    "import requests\n",
    "import re\n",
    "\n",
    "def get_data(key,value,current):\n",
    "    results = list()\n",
    "    for rec in current:\n",
    "        \n",
    "        if rec[key].find(value) != -1:\n",
    "            results.append(rec)\n",
    "    return results\n",
    "\n",
    "app = flask.Flask(__name__)\n",
    "\n",
    "import json\n",
    "data = None\n",
    "with open('jobs.json',encoding='utf-8') as f:\n",
    "    # returns JSON object as\n",
    "    # a dictionary\n",
    "    data = json.load(f)\n",
    "    \n",
    "    \n",
    "\n",
    "@app.route('/', methods=['GET'])\n",
    "def home():\n",
    "    \n",
    "    return '''<h1>Welcome to flask JOB search API</p>'''\n",
    "\n",
    "\n",
    "@app.route('/data/all', methods=['GET'])\n",
    "def api_all():\n",
    "    return jsonify(data)\n",
    "\n",
    "\n",
    "@app.route('/data', methods=['GET'])\n",
    "def api_id():\n",
    "    # Check if keys such as Job Title,KeySkills, Role Category and others  are provided as part of the URL.\n",
    "    #  Assign the keys to the corresponding variables..\n",
    "    # If no key is provided, display an error in the browser.\n",
    "    res = None\n",
    "    for req in request.args:\n",
    "        \n",
    "        if req == 'Job Title':\n",
    "            key = 'Job Title'\n",
    "        elif req == 'Job Experience Required' :\n",
    "            key='Job Experience Required'\n",
    "        elif req == 'Key Skills' :\n",
    "            key='Key Skills'\n",
    "            \n",
    "        elif req == 'Role Category' :\n",
    "            key='Role Category'\n",
    "        elif req == 'Location' :\n",
    "            key='Location'\n",
    "        \n",
    "        elif req == 'Functional Area' :\n",
    "            key='Functional Area'\n",
    "        \n",
    "        elif req == 'Industry' :\n",
    "            key='Industry'\n",
    "        elif req == 'Role' :\n",
    "            key='Role'\n",
    "        elif req==\"id\":\n",
    "             key=\"id\"\n",
    "        else:\n",
    "            pass\n",
    "    \n",
    "        value = request.args[key]\n",
    "        if (res==None):\n",
    "            res = get_data(key,value,data)\n",
    "        else:\n",
    "            res = get_data(key,value,res)\n",
    "\n",
    "    # Use the jsonify function from Flask to convert our list of\n",
    "    # Python dictionaries to the JSON format.\n",
    "    return jsonify(res)\n",
    "\n",
    "app.run()"
   ]
  },
  {
   "cell_type": "markdown",
   "id": "c3599fa2-05b9-4285-9699-08dc2f14c7f2",
   "metadata": {},
   "source": [
    "## Authors\n"
   ]
  },
  {
   "cell_type": "markdown",
   "id": "b47c3a9c-437a-4067-a532-a7765443fbe7",
   "metadata": {},
   "source": [
    "Lakshmi Holla\n"
   ]
  },
  {
   "cell_type": "markdown",
   "id": "5f42fdbf-c7b7-409f-b435-28d64d1607e3",
   "metadata": {},
   "source": [
    "### Other Contributors\n"
   ]
  },
  {
   "cell_type": "markdown",
   "id": "c323fbe6-dc6a-4dbc-9569-74c9041ea88c",
   "metadata": {},
   "source": [
    "Malika Singla\\\n",
    "Ayushi Jain\n"
   ]
  },
  {
   "cell_type": "markdown",
   "id": "1ffa5fb5-70ab-4f23-aee6-09cb260c1475",
   "metadata": {},
   "source": [
    "## Changelog\n"
   ]
  },
  {
   "cell_type": "markdown",
   "id": "c9348598-d30b-4359-b163-8177b50bcb3a",
   "metadata": {},
   "source": [
    "| Date (YYYY-MM-DD) | Version | Changed By    | Change Description      |\n",
    "| ----------------- | ------- | ------------- | ----------------------- |\n",
    "| 2022-01-03        | 0.1     | Lakshmi Holla | Created Initial Version |\n"
   ]
  },
  {
   "cell_type": "markdown",
   "id": "3f233ece-5867-4880-a325-d198f567a5b0",
   "metadata": {},
   "source": [
    "Copyright © 2022 IBM Corporation. This notebook and its source code are released under the terms of the [MIT License](https://cognitiveclass.ai/mit-license?utm_medium=Exinfluencer&utm_source=Exinfluencer&utm_content=000026UJ&utm_term=10006555&utm_id=NA-SkillsNetwork-Channel-SkillsNetworkCoursesIBMDA0321ENSkillsNetwork21426264-2021-01-01&cm_mmc=Email_Newsletter-\\_-Developer_Ed%2BTech-\\_-WW_WW-\\_-SkillsNetwork-Courses-IBM-DA0321EN-SkillsNetwork-21426264&cm_mmca1=000026UJ&cm_mmca2=10006555&cm_mmca3=M12345678&cvosrc=email.Newsletter.M12345678&cvo_campaign=000026UJ).\n"
   ]
  }
 ],
 "metadata": {
  "kernelspec": {
   "display_name": "Python 3 (ipykernel)",
   "language": "python",
   "name": "python3"
  },
  "language_info": {
   "codemirror_mode": {
    "name": "ipython",
    "version": 3
   },
   "file_extension": ".py",
   "mimetype": "text/x-python",
   "name": "python",
   "nbconvert_exporter": "python",
   "pygments_lexer": "ipython3",
   "version": "3.9.7"
  }
 },
 "nbformat": 4,
 "nbformat_minor": 5
}
